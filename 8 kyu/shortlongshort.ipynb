{
 "cells": [
  {
   "cell_type": "markdown",
   "id": "b5172ad9-e3c5-4f86-a5cf-e88635865661",
   "metadata": {},
   "source": [
    "# [Short Long Short](https://www.codewars.com/kata/50654ddff44f800200000007)"
   ]
  },
  {
   "cell_type": "raw",
   "id": "64e296d8-b0a0-439e-93b6-ecab4fc2c0cb",
   "metadata": {},
   "source": [
    "Given 2 strings, a and b, return a string of the form short+long+short, with the shorter string on the outside and the longer string on the inside. The strings will not be the same length, but they may be empty ( zero length )."
   ]
  },
  {
   "cell_type": "code",
   "execution_count": 6,
   "id": "c26e60f0-6f49-4ae9-bdeb-aa3b2bf9cd01",
   "metadata": {},
   "outputs": [],
   "source": [
    "def solution(a, b):\n",
    "    if len(a) > len(b):\n",
    "        return b+a+b\n",
    "    else:\n",
    "        return a+b+a"
   ]
  },
  {
   "cell_type": "code",
   "execution_count": 9,
   "id": "36456b6a-fd45-4628-92b3-ae94c0cb9757",
   "metadata": {},
   "outputs": [
    {
     "data": {
      "text/plain": [
       "'1221'"
      ]
     },
     "execution_count": 9,
     "metadata": {},
     "output_type": "execute_result"
    }
   ],
   "source": [
    "solution('1', '22')"
   ]
  },
  {
   "cell_type": "code",
   "execution_count": 10,
   "id": "15de182e-5cad-4b37-a059-3678c5697365",
   "metadata": {},
   "outputs": [
    {
     "data": {
      "text/plain": [
       "'1221'"
      ]
     },
     "execution_count": 10,
     "metadata": {},
     "output_type": "execute_result"
    }
   ],
   "source": [
    "solution('22', '1')"
   ]
  },
  {
   "cell_type": "markdown",
   "id": "361a21ef-e584-495f-af6e-9457423fd4ec",
   "metadata": {},
   "source": [
    "## Solution 2"
   ]
  },
  {
   "cell_type": "code",
   "execution_count": 17,
   "id": "a806c40f-c866-463e-9e69-0fc7722d083e",
   "metadata": {},
   "outputs": [],
   "source": [
    "def solution(a, b):\n",
    "    return b+a+b if len(a) > len(b) else a+b+a"
   ]
  },
  {
   "cell_type": "code",
   "execution_count": 18,
   "id": "21f06188-275a-4063-b85c-4404cdf4e525",
   "metadata": {},
   "outputs": [
    {
     "data": {
      "text/plain": [
       "'1122211'"
      ]
     },
     "execution_count": 18,
     "metadata": {},
     "output_type": "execute_result"
    }
   ],
   "source": [
    "solution('11', '222')"
   ]
  },
  {
   "cell_type": "code",
   "execution_count": 19,
   "id": "c299c70e-43f3-4165-b81f-9ba38e73585f",
   "metadata": {},
   "outputs": [
    {
     "data": {
      "text/plain": [
       "'1122211'"
      ]
     },
     "execution_count": 19,
     "metadata": {},
     "output_type": "execute_result"
    }
   ],
   "source": [
    "solution('222', '11')"
   ]
  },
  {
   "cell_type": "code",
   "execution_count": 20,
   "id": "7f231cb7-550e-4a4e-b70e-e1e3b819f428",
   "metadata": {},
   "outputs": [
    {
     "data": {
      "text/plain": [
       "'MeSoonMe'"
      ]
     },
     "execution_count": 20,
     "metadata": {},
     "output_type": "execute_result"
    }
   ],
   "source": [
    "solution('Soon', 'Me')"
   ]
  },
  {
   "cell_type": "code",
   "execution_count": null,
   "id": "6a5ed576-7a1a-4e70-89d6-136843a98d1a",
   "metadata": {},
   "outputs": [],
   "source": []
  }
 ],
 "metadata": {
  "kernelspec": {
   "display_name": "Python 3 (ipykernel)",
   "language": "python",
   "name": "python3"
  },
  "language_info": {
   "codemirror_mode": {
    "name": "ipython",
    "version": 3
   },
   "file_extension": ".py",
   "mimetype": "text/x-python",
   "name": "python",
   "nbconvert_exporter": "python",
   "pygments_lexer": "ipython3",
   "version": "3.10.7"
  }
 },
 "nbformat": 4,
 "nbformat_minor": 5
}
