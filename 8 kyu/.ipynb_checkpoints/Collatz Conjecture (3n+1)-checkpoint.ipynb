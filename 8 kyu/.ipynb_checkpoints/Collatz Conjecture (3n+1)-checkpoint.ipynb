{
 "cells": [
  {
   "cell_type": "markdown",
   "id": "cb9f8ef0-b7f8-4cd5-8942-04edf489a6b0",
   "metadata": {},
   "source": [
    "# [Collatz Conjecture (3n+1)](https://www.codewars.com/kata/577a6e90d48e51c55e000217)"
   ]
  },
  {
   "cell_type": "code",
   "execution_count": 33,
   "id": "524fd7fa-9b09-4c5e-99d8-e680a6574823",
   "metadata": {},
   "outputs": [],
   "source": [
    "def hotpo(n):\n",
    "    if n == 1:\n",
    "        return 0\n",
    "    elif n % 2 == 0:\n",
    "        return 1 + hotpo(n // 2)\n",
    "    else:\n",
    "        return 1 + hotpo(3 * n + 1)"
   ]
  },
  {
   "cell_type": "code",
   "execution_count": 34,
   "id": "b25a2166-6077-4d0c-bab8-09b82304a9c2",
   "metadata": {},
   "outputs": [
    {
     "data": {
      "text/plain": [
       "0"
      ]
     },
     "execution_count": 34,
     "metadata": {},
     "output_type": "execute_result"
    }
   ],
   "source": [
    "hotpo(1)"
   ]
  },
  {
   "cell_type": "code",
   "execution_count": 35,
   "id": "9e5675da-e45d-480e-8353-06ec97cf3e85",
   "metadata": {},
   "outputs": [
    {
     "data": {
      "text/plain": [
       "15"
      ]
     },
     "execution_count": 35,
     "metadata": {},
     "output_type": "execute_result"
    }
   ],
   "source": [
    "hotpo(23)"
   ]
  },
  {
   "cell_type": "code",
   "execution_count": 36,
   "id": "bde7dde6-27bf-46e4-962e-eeea333100b5",
   "metadata": {},
   "outputs": [
    {
     "data": {
      "text/plain": [
       "8"
      ]
     },
     "execution_count": 36,
     "metadata": {},
     "output_type": "execute_result"
    }
   ],
   "source": [
    "hotpo(6)"
   ]
  },
  {
   "cell_type": "markdown",
   "id": "cca5885e-72fb-465a-afb6-624c57bcc285",
   "metadata": {},
   "source": [
    "_______________"
   ]
  },
  {
   "cell_type": "markdown",
   "id": "abf85a1a-d61e-48e2-aa74-50be8207a69d",
   "metadata": {},
   "source": [
    "## Other Solutions"
   ]
  },
  {
   "cell_type": "code",
   "execution_count": 37,
   "id": "fa1da1a6-0279-4da7-b5d6-53d1b69504bd",
   "metadata": {},
   "outputs": [],
   "source": [
    "def hotpo(n, i=0):\n",
    "    if n == 1:\n",
    "        return i\n",
    "    elif n%2:\n",
    "        return hotpo(3*n+1, i+1)\n",
    "    else:\n",
    "        return hotpo(n/2, i+1)"
   ]
  },
  {
   "cell_type": "code",
   "execution_count": null,
   "id": "47359302-24f4-4719-9810-1e38b67fa236",
   "metadata": {},
   "outputs": [],
   "source": []
  }
 ],
 "metadata": {
  "kernelspec": {
   "display_name": "Python 3 (ipykernel)",
   "language": "python",
   "name": "python3"
  },
  "language_info": {
   "codemirror_mode": {
    "name": "ipython",
    "version": 3
   },
   "file_extension": ".py",
   "mimetype": "text/x-python",
   "name": "python",
   "nbconvert_exporter": "python",
   "pygments_lexer": "ipython3",
   "version": "3.10.7"
  }
 },
 "nbformat": 4,
 "nbformat_minor": 5
}
