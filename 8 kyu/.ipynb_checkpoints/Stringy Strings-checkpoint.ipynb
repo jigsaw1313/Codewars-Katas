{
 "cells": [
  {
   "cell_type": "markdown",
   "id": "77a25a02",
   "metadata": {},
   "source": [
    "# Stringy Strings\n"
   ]
  },
  {
   "cell_type": "markdown",
   "id": "f749a97b",
   "metadata": {},
   "source": [
    "https://www.codewars.com/kata/563b74ddd19a3ad462000054/python"
   ]
  },
  {
   "cell_type": "code",
   "execution_count": 6,
   "id": "4e6adf17",
   "metadata": {},
   "outputs": [],
   "source": [
    "def stringy(size, curr_idx = 0, result = ''):\n",
    "    # Base case: Stop recursion when the desired length is reached\n",
    "    if curr_idx == size:\n",
    "        return result\n",
    "    # Append '1' for even indices and '0' for odd indices\n",
    "    if curr_idx % 2 == 0:\n",
    "        result += '1'\n",
    "    else:\n",
    "        result += '0'\n",
    "    # Recursive call with the updated index and result\n",
    "    return stringy(size, curr_idx + 1, result)\n",
    "            "
   ]
  },
  {
   "cell_type": "code",
   "execution_count": 7,
   "id": "1351661a",
   "metadata": {},
   "outputs": [
    {
     "data": {
      "text/plain": [
       "'10101'"
      ]
     },
     "execution_count": 7,
     "metadata": {},
     "output_type": "execute_result"
    }
   ],
   "source": [
    "stringy(5)"
   ]
  },
  {
   "cell_type": "code",
   "execution_count": 8,
   "id": "2fbed34b",
   "metadata": {},
   "outputs": [
    {
     "data": {
      "text/plain": [
       "'101010'"
      ]
     },
     "execution_count": 8,
     "metadata": {},
     "output_type": "execute_result"
    }
   ],
   "source": [
    "stringy(6)"
   ]
  },
  {
   "cell_type": "markdown",
   "id": "589f9e52",
   "metadata": {},
   "source": [
    "___________"
   ]
  },
  {
   "cell_type": "code",
   "execution_count": 9,
   "id": "b0dbcd8b",
   "metadata": {},
   "outputs": [],
   "source": [
    "def stringy(size):\n",
    "    return ('10' * size)[:size]"
   ]
  },
  {
   "cell_type": "code",
   "execution_count": null,
   "id": "5fd6e8ad",
   "metadata": {},
   "outputs": [],
   "source": []
  }
 ],
 "metadata": {
  "kernelspec": {
   "display_name": "Python 3 (ipykernel)",
   "language": "python",
   "name": "python3"
  },
  "language_info": {
   "codemirror_mode": {
    "name": "ipython",
    "version": 3
   },
   "file_extension": ".py",
   "mimetype": "text/x-python",
   "name": "python",
   "nbconvert_exporter": "python",
   "pygments_lexer": "ipython3",
   "version": "3.10.7"
  }
 },
 "nbformat": 4,
 "nbformat_minor": 5
}
