{
 "cells": [
  {
   "cell_type": "markdown",
   "id": "ffc0285c-f6a0-496a-9e36-c86612f6eee9",
   "metadata": {},
   "source": [
    "# [Neutralisation](https://www.codewars.com/kata/65128732b5aff40032a3d8f0)\n"
   ]
  },
  {
   "cell_type": "code",
   "execution_count": 66,
   "id": "007e22da-d31a-48f8-b58a-44af1c3e79fc",
   "metadata": {},
   "outputs": [],
   "source": [
    "def neutralise(s1, s2):\n",
    "    s = ''\n",
    "    for i ,j in zip(s1, s2):\n",
    "            if i == '+' and j == '+':\n",
    "                s += '+'\n",
    "            elif i == '-' and j == '-':\n",
    "                s += '-'\n",
    "            else:\n",
    "                s += '0'\n",
    "    return s"
   ]
  },
  {
   "cell_type": "code",
   "execution_count": 67,
   "id": "333219e8-b4e3-4343-8033-94ef1ce72ab0",
   "metadata": {},
   "outputs": [
    {
     "data": {
      "text/plain": [
       "'000000'"
      ]
     },
     "execution_count": 67,
     "metadata": {},
     "output_type": "execute_result"
    }
   ],
   "source": [
    "neutralise(\"--++--\", \"++--++\")"
   ]
  },
  {
   "cell_type": "code",
   "execution_count": 68,
   "id": "09213726-993b-41b5-9eb7-9c824b8c7963",
   "metadata": {},
   "outputs": [
    {
     "data": {
      "text/plain": [
       "'-+00'"
      ]
     },
     "execution_count": 68,
     "metadata": {},
     "output_type": "execute_result"
    }
   ],
   "source": [
    "neutralise(\"-++-\", \"-+-+\")"
   ]
  },
  {
   "cell_type": "code",
   "execution_count": 70,
   "id": "abe9d091-5aaa-44a8-a47a-d3fc235776b7",
   "metadata": {},
   "outputs": [
    {
     "data": {
      "text/plain": [
       "'0+0+0000+0'"
      ]
     },
     "execution_count": 70,
     "metadata": {},
     "output_type": "execute_result"
    }
   ],
   "source": [
    "neutralise(\"++-++--++-\", \"-+++-++-++\")"
   ]
  },
  {
   "cell_type": "markdown",
   "id": "7ed29a00-fcc2-4e0e-9d8b-0fc7a38b9063",
   "metadata": {},
   "source": [
    "_________________________________"
   ]
  },
  {
   "cell_type": "markdown",
   "id": "52125e47-f48a-4318-8181-285049831268",
   "metadata": {},
   "source": [
    "## Best Answers :"
   ]
  },
  {
   "cell_type": "code",
   "execution_count": 71,
   "id": "c37a7d7d-ab64-4b37-8bf6-b48283d61d41",
   "metadata": {},
   "outputs": [],
   "source": [
    "def neutralise(s1, s2):\n",
    "    return \"\".join('0' if i != j else i for i,j in zip(s1,s2))"
   ]
  },
  {
   "cell_type": "code",
   "execution_count": 72,
   "id": "40e3654b-21b9-4065-9979-36fc3809d3da",
   "metadata": {},
   "outputs": [
    {
     "data": {
      "text/plain": [
       "'000000'"
      ]
     },
     "execution_count": 72,
     "metadata": {},
     "output_type": "execute_result"
    }
   ],
   "source": [
    "neutralise(\"--++--\", \"++--++\")"
   ]
  },
  {
   "cell_type": "code",
   "execution_count": 73,
   "id": "b17d9978-55f0-482a-bc3b-9dbc79e84452",
   "metadata": {},
   "outputs": [
    {
     "data": {
      "text/plain": [
       "'0+0+0000+0'"
      ]
     },
     "execution_count": 73,
     "metadata": {},
     "output_type": "execute_result"
    }
   ],
   "source": [
    "neutralise(\"++-++--++-\", \"-+++-++-++\")"
   ]
  },
  {
   "cell_type": "markdown",
   "id": "8b8879aa-9e1a-451f-878e-309cbd5632b3",
   "metadata": {},
   "source": [
    "___________"
   ]
  },
  {
   "cell_type": "code",
   "execution_count": 74,
   "id": "b554d136-4004-45bb-83f6-6212dd7cead7",
   "metadata": {},
   "outputs": [],
   "source": [
    "def neutralise(s1, s2):\n",
    "    res = \"\"\n",
    "    for i in range(len(s1)):\n",
    "        res += \"0\" if s1[i] != s2[i] else s1[i]\n",
    "    return res"
   ]
  },
  {
   "cell_type": "code",
   "execution_count": 75,
   "id": "5d165422-648b-4820-b6c5-95ff38068970",
   "metadata": {},
   "outputs": [
    {
     "data": {
      "text/plain": [
       "'000000'"
      ]
     },
     "execution_count": 75,
     "metadata": {},
     "output_type": "execute_result"
    }
   ],
   "source": [
    "neutralise(\"--++--\", \"++--++\")"
   ]
  },
  {
   "cell_type": "code",
   "execution_count": 76,
   "id": "040ddf3b-98fd-469e-bffa-22aa84696446",
   "metadata": {},
   "outputs": [
    {
     "data": {
      "text/plain": [
       "'0+0+0000+0'"
      ]
     },
     "execution_count": 76,
     "metadata": {},
     "output_type": "execute_result"
    }
   ],
   "source": [
    "neutralise(\"++-++--++-\", \"-+++-++-++\")"
   ]
  },
  {
   "cell_type": "code",
   "execution_count": null,
   "id": "0970ff6b-0ab5-4cd1-b1c9-fa4081f48cec",
   "metadata": {},
   "outputs": [],
   "source": []
  }
 ],
 "metadata": {
  "kernelspec": {
   "display_name": "Python 3 (ipykernel)",
   "language": "python",
   "name": "python3"
  },
  "language_info": {
   "codemirror_mode": {
    "name": "ipython",
    "version": 3
   },
   "file_extension": ".py",
   "mimetype": "text/x-python",
   "name": "python",
   "nbconvert_exporter": "python",
   "pygments_lexer": "ipython3",
   "version": "3.10.7"
  }
 },
 "nbformat": 4,
 "nbformat_minor": 5
}
