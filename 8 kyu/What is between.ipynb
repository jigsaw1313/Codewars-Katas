{
 "cells": [
  {
   "cell_type": "markdown",
   "id": "f38895b4-9b45-4f37-bcab-be097c4d19b6",
   "metadata": {},
   "source": [
    "# [what_is_between](https://www.codewars.com/kata/55ecd718f46fba02e5000029)"
   ]
  },
  {
   "cell_type": "raw",
   "id": "27f8ab47-f745-450f-9ed8-2084034f468f",
   "metadata": {},
   "source": [
    "Complete the function that takes two integers (a, b, where a < b) and return an array of all integers between the input parameters, including them.\n",
    "\n",
    "For example:\n",
    "\n",
    "a = 1\n",
    "b = 4\n",
    "--> [1, 2, 3, 4]"
   ]
  },
  {
   "cell_type": "code",
   "execution_count": 9,
   "id": "9fc22343-ef96-4f13-bf8d-ecaf9d083555",
   "metadata": {},
   "outputs": [],
   "source": [
    "def between(a,b):\n",
    "    d = b - a\n",
    "    l = []\n",
    "    for i in range(d + 1):\n",
    "        l.append(a + i)\n",
    "    return l"
   ]
  },
  {
   "cell_type": "code",
   "execution_count": 10,
   "id": "08f921f3-940c-4c99-955c-4672ec107169",
   "metadata": {},
   "outputs": [
    {
     "data": {
      "text/plain": [
       "[-2, -1, 0, 1, 2]"
      ]
     },
     "execution_count": 10,
     "metadata": {},
     "output_type": "execute_result"
    }
   ],
   "source": [
    "between(-2, 2)"
   ]
  },
  {
   "cell_type": "code",
   "execution_count": 11,
   "id": "b76f5108-f9c3-49d0-9bc4-f5d861e0842e",
   "metadata": {},
   "outputs": [
    {
     "data": {
      "text/plain": [
       "[1, 2, 3, 4]"
      ]
     },
     "execution_count": 11,
     "metadata": {},
     "output_type": "execute_result"
    }
   ],
   "source": [
    "between(1, 4)"
   ]
  },
  {
   "cell_type": "markdown",
   "id": "7869d7d4-636b-45ba-a29d-fc320bfd16a8",
   "metadata": {},
   "source": [
    "## Other Solutions"
   ]
  },
  {
   "cell_type": "code",
   "execution_count": 12,
   "id": "c9eff154-4102-46bf-906d-e5eaeb9db30e",
   "metadata": {},
   "outputs": [],
   "source": [
    "def between(a,b):\n",
    "    return list(range(a,b+1))"
   ]
  },
  {
   "cell_type": "code",
   "execution_count": 13,
   "id": "95c6c719-64df-4020-ae45-318dadc15249",
   "metadata": {},
   "outputs": [
    {
     "data": {
      "text/plain": [
       "[1, 2, 3, 4]"
      ]
     },
     "execution_count": 13,
     "metadata": {},
     "output_type": "execute_result"
    }
   ],
   "source": [
    "between(1, 4)"
   ]
  },
  {
   "cell_type": "code",
   "execution_count": 14,
   "id": "3088694d-fe92-4af7-9cc4-480dbddde053",
   "metadata": {},
   "outputs": [
    {
     "data": {
      "text/plain": [
       "[10, 11, 12, 13, 14, 15, 16, 17, 18, 19, 20, 21, 22, 23]"
      ]
     },
     "execution_count": 14,
     "metadata": {},
     "output_type": "execute_result"
    }
   ],
   "source": [
    "between(10, 23)"
   ]
  },
  {
   "cell_type": "code",
   "execution_count": null,
   "id": "84de41e9-9ad0-4401-8053-c31b408d4670",
   "metadata": {},
   "outputs": [],
   "source": []
  }
 ],
 "metadata": {
  "kernelspec": {
   "display_name": "Python 3 (ipykernel)",
   "language": "python",
   "name": "python3"
  },
  "language_info": {
   "codemirror_mode": {
    "name": "ipython",
    "version": 3
   },
   "file_extension": ".py",
   "mimetype": "text/x-python",
   "name": "python",
   "nbconvert_exporter": "python",
   "pygments_lexer": "ipython3",
   "version": "3.10.7"
  }
 },
 "nbformat": 4,
 "nbformat_minor": 5
}
