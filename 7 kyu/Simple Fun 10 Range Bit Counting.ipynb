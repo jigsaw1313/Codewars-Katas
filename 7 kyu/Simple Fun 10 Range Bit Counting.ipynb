{
 "cells": [
  {
   "cell_type": "markdown",
   "id": "c9c8af68",
   "metadata": {},
   "source": [
    "# Simple Fun #10: Range Bit Counting"
   ]
  },
  {
   "cell_type": "markdown",
   "id": "feb74446",
   "metadata": {},
   "source": [
    "https://www.codewars.com/kata/58845748bd5733f1b300001f/train/python"
   ]
  },
  {
   "cell_type": "code",
   "execution_count": 10,
   "id": "e3e3ac8e",
   "metadata": {},
   "outputs": [],
   "source": [
    "def range_bit_count(a, b):\n",
    "    total_ones = 0\n",
    "    for num in range(a, b + 1):\n",
    "        binary_representation = bin(num)[2:]  # Convert to binary and remove '0b' prefix\n",
    "        ones_count = binary_representation.count('1')\n",
    "        total_ones += ones_count\n",
    "    return total_ones"
   ]
  },
  {
   "cell_type": "code",
   "execution_count": 11,
   "id": "b6ad5220",
   "metadata": {},
   "outputs": [
    {
     "data": {
      "text/plain": [
       "11"
      ]
     },
     "execution_count": 11,
     "metadata": {},
     "output_type": "execute_result"
    }
   ],
   "source": [
    "range_bit_count(2, 7)"
   ]
  },
  {
   "cell_type": "markdown",
   "id": "635161ad",
   "metadata": {},
   "source": [
    "____________________________________________________________________________________________"
   ]
  },
  {
   "cell_type": "code",
   "execution_count": 12,
   "id": "bcf6738c",
   "metadata": {},
   "outputs": [],
   "source": [
    "def range_bit_count(a, b):\n",
    "    return sum(bin(i).count('1') for i in range(a, b+1))"
   ]
  },
  {
   "cell_type": "code",
   "execution_count": null,
   "id": "ab8b11cd",
   "metadata": {},
   "outputs": [],
   "source": []
  }
 ],
 "metadata": {
  "kernelspec": {
   "display_name": "Python 3 (ipykernel)",
   "language": "python",
   "name": "python3"
  },
  "language_info": {
   "codemirror_mode": {
    "name": "ipython",
    "version": 3
   },
   "file_extension": ".py",
   "mimetype": "text/x-python",
   "name": "python",
   "nbconvert_exporter": "python",
   "pygments_lexer": "ipython3",
   "version": "3.10.7"
  }
 },
 "nbformat": 4,
 "nbformat_minor": 5
}
